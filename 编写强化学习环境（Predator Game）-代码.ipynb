{
 "cells": [
  {
   "cell_type": "code",
   "execution_count": 1,
   "metadata": {},
   "outputs": [
    {
     "name": "stdout",
     "output_type": "stream",
     "text": [
      "Requirement already satisfied: opencv-python in /Users/liangsy/opt/anaconda3/lib/python3.8/site-packages (4.5.2.52)\r\n",
      "Requirement already satisfied: numpy>=1.17.3 in /Users/liangsy/opt/anaconda3/lib/python3.8/site-packages (from opencv-python) (1.19.5)\r\n"
     ]
    }
   ],
   "source": [
    "!pip install opencv-python"
   ]
  },
  {
   "cell_type": "code",
   "execution_count": 2,
   "metadata": {},
   "outputs": [
    {
     "name": "stdout",
     "output_type": "stream",
     "text": [
      "Requirement already satisfied: pillow in /Users/liangsy/opt/anaconda3/lib/python3.8/site-packages (7.2.0)\r\n"
     ]
    }
   ],
   "source": [
    "!pip install pillow"
   ]
  },
  {
   "cell_type": "code",
   "execution_count": 57,
   "metadata": {},
   "outputs": [],
   "source": [
    "import numpy as np\n",
    "import cv2\n",
    "from PIL import Image\n",
    "import time\n",
    "import pickle\n",
    "import matplotlib.pyplot as plt\n",
    "from matplotlib import style\n",
    "style.use('ggplot')"
   ]
  },
  {
   "cell_type": "code",
   "execution_count": 63,
   "metadata": {},
   "outputs": [],
   "source": [
    "SIZE = 10\n",
    "EPISODES = 30000\n",
    "SHOW_EVERY = 3000\n",
    "\n",
    "FOOD_REWARD = 25\n",
    "ENEMY_PENALITY = 300\n",
    "MOVE_PENALITY = 1\n",
    "\n",
    "epsilon = 0.6\n",
    "EPS_DECAY = 0.9998\n",
    "DISCOUNT = 0.95\n",
    "LEARNING_RATE = 0.1\n",
    "\n",
    "q_table = 'qtable_1636204341.pickle'\n",
    "\n",
    "d = {1:(255,0,0), #blue\n",
    "     2:(0,255,0), #green\n",
    "     3:(0,0,255)} #red\n",
    "\n",
    "PLAYER_N = 1\n",
    "FOOD_N =2\n",
    "ENEMY_N =3"
   ]
  },
  {
   "cell_type": "code",
   "execution_count": 64,
   "metadata": {},
   "outputs": [],
   "source": [
    "class Cube:\n",
    "    def __init__(self):\n",
    "        self.x = np.random.randint(0, SIZE)\n",
    "        self.y = np.random.randint(0, SIZE)\n",
    "        \n",
    "    def __str__(self):\n",
    "        return f'{self.x},{self.y}'\n",
    "    \n",
    "    def __sub__(self,other):\n",
    "        return (self.x-other.x,self.y-other.y)\n",
    "    \n",
    "    def action(self,choise):\n",
    "        if choise == 0 :\n",
    "            self.move(x=1, y=1)\n",
    "        elif choise == 1 :\n",
    "            self.move(x=-1, y=1)\n",
    "        elif choise == 2 :\n",
    "            self.move(x=1, y=-1)\n",
    "        elif choise == 3 :\n",
    "            self.move(x=-1, y=-1)\n",
    "    \n",
    "    def move(self,x=False,y=False):\n",
    "        if not x:\n",
    "            self.x += np.random.randint(-1,2)\n",
    "        else:\n",
    "            self.x += x\n",
    "            \n",
    "        if not y:\n",
    "            self.y += np.random.randint(-1,2)\n",
    "        else:\n",
    "            self.y += y   \n",
    "            \n",
    "        if self.x < 0 :\n",
    "            self.x = 0\n",
    "        elif self.x >= SIZE :\n",
    "            self.x = SIZE -1\n",
    "\n",
    "        if self.y < 0 :\n",
    "            self.y = 0\n",
    "        elif self.y >= SIZE :\n",
    "            self.y = SIZE -1"
   ]
  },
  {
   "cell_type": "code",
   "execution_count": 65,
   "metadata": {},
   "outputs": [],
   "source": [
    "if q_table is None:\n",
    "    q_table = {}\n",
    "    for x1 in range(-SIZE+1, SIZE):\n",
    "        for y1 in range(-SIZE+1, SIZE):\n",
    "            for x2 in range(-SIZE+1, SIZE):\n",
    "                for y2 in range(-SIZE+1, SIZE):\n",
    "                    q_table[((x1,y1),(x2,y2))] = [np.random.uniform(-5,0) for i in range(4)]\n",
    "else:\n",
    "    with open(q_table,'rb') as f:\n",
    "        q_table=pickle.load(f)"
   ]
  },
  {
   "cell_type": "code",
   "execution_count": 66,
   "metadata": {
    "scrolled": false
   },
   "outputs": [
    {
     "name": "stdout",
     "output_type": "stream",
     "text": [
      "episode #0, epsilon:0.6\n",
      "mean reward:nan\n"
     ]
    },
    {
     "name": "stderr",
     "output_type": "stream",
     "text": [
      "/Users/liangsy/opt/anaconda3/lib/python3.8/site-packages/numpy/core/fromnumeric.py:3372: RuntimeWarning: Mean of empty slice.\n",
      "  return _methods._mean(a, axis=axis, dtype=dtype,\n",
      "/Users/liangsy/opt/anaconda3/lib/python3.8/site-packages/numpy/core/_methods.py:170: RuntimeWarning: invalid value encountered in double_scalars\n",
      "  ret = ret.dtype.type(ret / rcount)\n"
     ]
    },
    {
     "name": "stdout",
     "output_type": "stream",
     "text": [
      "episode #3000, epsilon:0.32926722239570905\n",
      "mean reward:-32.624\n",
      "episode #6000, epsilon:0.18069483957364205\n",
      "mean reward:-12.621666666666666\n",
      "episode #9000, epsilon:0.09916147987941909\n",
      "mean reward:-9.519333333333334\n",
      "episode #12000, epsilon:0.054417708414240505\n",
      "mean reward:-9.794333333333332\n",
      "episode #15000, epsilon:0.029863279497827713\n",
      "mean reward:-8.415666666666667\n",
      "episode #18000, epsilon:0.016388331819794114\n",
      "mean reward:-6.570666666666667\n",
      "episode #21000, epsilon:0.00899356749667138\n",
      "mean reward:-4.325666666666667\n",
      "episode #24000, epsilon:0.00493547831509555\n",
      "mean reward:-3.7876666666666665\n",
      "episode #27000, epsilon:0.0027084853933429503\n",
      "mean reward:-2.073\n",
      "27001\n"
     ]
    },
    {
     "data": {
      "image/png": "[encoded data removed]",
      "text/plain": [
       "<Figure size 432x288 with 1 Axes>"
      ]
     },
     "metadata": {},
     "output_type": "display_data"
    }
   ],
   "source": [
    "episode_rewards = []\n",
    "for episode in range(EPISODES):\n",
    "    player = Cube()\n",
    "    food = Cube()\n",
    "    enemy = Cube()\n",
    "\n",
    "    if episode%SHOW_EVERY == 0 :\n",
    "        print(f'episode #{episode}, epsilon:{epsilon}')\n",
    "        print(f'mean reward:{np.mean(episode_rewards[-SHOW_EVERY:])}')\n",
    "        show = True\n",
    "    else:\n",
    "        show = False\n",
    "    \n",
    "    episode_reward = 0\n",
    "    for i in range(200):\n",
    "        obs = (player-food, player-enemy)\n",
    "        if np.random.random() > epsilon :\n",
    "            action = np.argmax(q_table[obs])\n",
    "        else:\n",
    "            action = np.random.randint(0,4)\n",
    "        \n",
    "        player.action(action)\n",
    "#         food.move()\n",
    "#         enemy.move()\n",
    "        \n",
    "        if player.x == food.x and player.y == food.y :\n",
    "            reward = FOOD_REWARD\n",
    "        elif player.x == enemy.x and player.y == enemy.y :\n",
    "            reward = -ENEMY_PENALITY\n",
    "        else:\n",
    "            reward = -MOVE_PENALITY\n",
    "            \n",
    "        \n",
    "        #Update the Q_table\n",
    "        current_q = q_table[obs][action]\n",
    "        new_obs =  (player-food, player-enemy)\n",
    "        max_future_q = np.max(q_table[new_obs])                \n",
    "        if reward == FOOD_REWARD:\n",
    "            new_q = FOOD_REWARD\n",
    "        else:\n",
    "            new_q = (1 - LEARNING_RATE)*current_q + LEARNING_RATE*(reward+DISCOUNT*max_future_q)        \n",
    "        q_table[obs][action] = new_q\n",
    "        \n",
    "        if show:\n",
    "            env = np.zeros((SIZE,SIZE,3), dtype=np.uint8)\n",
    "            env[food.x][food.y] = d[FOOD_N]\n",
    "            env[player.x][player.y] = d[PLAYER_N]\n",
    "            env[enemy.x][enemy.y] = d[ENEMY_N]\n",
    "            img = Image.fromarray(env,'RGB')\n",
    "            img = img.resize((800,800))\n",
    "            cv2.imshow('',np.array(img))\n",
    "            if reward == FOOD_REWARD or reward == -ENEMY_PENALITY:\n",
    "                if cv2.waitKey(500) & 0xFF == ord('q') :\n",
    "                    break\n",
    "            else:\n",
    "                if cv2.waitKey(1) & 0xFF == ord('q') :\n",
    "                    break\n",
    "                   \n",
    "        episode_reward += reward\n",
    "        \n",
    "        if reward == FOOD_REWARD or reward == -ENEMY_PENALITY:\n",
    "            break\n",
    "    \n",
    "    episode_rewards.append(episode_reward)\n",
    "    epsilon *= EPS_DECAY\n",
    "\n",
    "moving_avg = np.convolve(episode_rewards,np.ones((SHOW_EVERY,))/SHOW_EVERY,mode='valid')\n",
    "print(len(moving_avg))\n",
    "plt.plot([i for i in range(len(moving_avg))],moving_avg)\n",
    "plt.xlabel('episode #')\n",
    "plt.ylabel(f'mean {SHOW_EVERY} reward')\n",
    "plt.show()\n",
    "\n",
    "with open(f'qtable_{int(time.time())}.pickle','wb') as f:\n",
    "    pickle.dump(q_table,f)"
   ]
  },
  {
   "cell_type": "code",
   "execution_count": 56,
   "metadata": {},
   "outputs": [],
   "source": [
    "with open(f'qtable_{int(time.time())}.pickle','wb') as f:\n",
    "    pickle.dump(q_table,f)"
   ]
  },
  {
   "cell_type": "code",
   "execution_count": null,
   "metadata": {},
   "outputs": [],
   "source": []
  },
  {
   "cell_type": "code",
   "execution_count": null,
   "metadata": {},
   "outputs": [],
   "source": []
  },
  {
   "cell_type": "code",
   "execution_count": null,
   "metadata": {},
   "outputs": [],
   "source": []
  },
  {
   "cell_type": "code",
   "execution_count": null,
   "metadata": {},
   "outputs": [],
   "source": []
  },
  {
   "cell_type": "code",
   "execution_count": 55,
   "metadata": {},
   "outputs": [
    {
     "name": "stdout",
     "output_type": "stream",
     "text": [
      "27001\n"
     ]
    },
    {
     "data": {
      "image/png": "[encoded data removed]",
      "text/plain": [
       "<Figure size 432x288 with 1 Axes>"
      ]
     },
     "metadata": {},
     "output_type": "display_data"
    }
   ],
   "source": [
    "moving_avg = np.convolve(episode_rewards,np.ones((SHOW_EVERY,))/SHOW_EVERY,mode='valid')\n",
    "print(len(moving_avg))\n",
    "plt.plot([i for i in range(len(moving_avg))],moving_avg)\n",
    "plt.xlabel('episode #')\n",
    "plt.ylabel(f'mean {SHOW_EVERY} reward')\n",
    "plt.show()"
   ]
  },
  {
   "cell_type": "code",
   "execution_count": null,
   "metadata": {},
   "outputs": [],
   "source": []
  },
  {
   "cell_type": "code",
   "execution_count": null,
   "metadata": {},
   "outputs": [],
   "source": []
  },
  {
   "cell_type": "code",
   "execution_count": 50,
   "metadata": {},
   "outputs": [
    {
     "name": "stdout",
     "output_type": "stream",
     "text": [
      "[ 7.          9.         10.         14.33333333 26.         40.66666667\n",
      " 52.         53.33333333]\n"
     ]
    }
   ],
   "source": [
    "conv = np.convolve([3,8,10,9,11,23,44,55,57,48],np.ones((3,))/3,mode='valid')\n",
    "print(conv)"
   ]
  },
  {
   "cell_type": "code",
   "execution_count": 53,
   "metadata": {},
   "outputs": [
    {
     "data": {
      "text/plain": [
       "10.0"
      ]
     },
     "execution_count": 53,
     "metadata": {},
     "output_type": "execute_result"
    }
   ],
   "source": [
    "np.mean([10,9,11])"
   ]
  },
  {
   "cell_type": "code",
   "execution_count": null,
   "metadata": {},
   "outputs": [],
   "source": []
  },
  {
   "cell_type": "code",
   "execution_count": 41,
   "metadata": {},
   "outputs": [],
   "source": [
    "food = Cube()\n",
    "player = Cube()\n",
    "enemy = Cube()\n",
    "\n",
    "env = np.zeros((SIZE,SIZE,3), dtype=np.uint8)\n",
    "env[food.x][food.y] = d[FOOD_N]\n",
    "env[player.x][player.y] = d[PLAYER_N]\n",
    "env[enemy.x][enemy.y] = d[ENEMY_N]\n",
    "\n",
    "img = Image.fromarray(env,'RGB')\n",
    "img = img.resize((800,800))\n",
    "\n",
    "cv2.imshow('',np.array(img))\n",
    "\n",
    "if cv2.waitKey(500) & 0xFF == ord('q') :\n",
    "    pass\n"
   ]
  },
  {
   "cell_type": "code",
   "execution_count": null,
   "metadata": {},
   "outputs": [],
   "source": []
  },
  {
   "cell_type": "code",
   "execution_count": 6,
   "metadata": {},
   "outputs": [
    {
     "name": "stdout",
     "output_type": "stream",
     "text": [
      "130321\n"
     ]
    }
   ],
   "source": [
    "print(len(q_table))"
   ]
  },
  {
   "cell_type": "code",
   "execution_count": 8,
   "metadata": {},
   "outputs": [
    {
     "data": {
      "text/plain": [
       "130321"
      ]
     },
     "execution_count": 8,
     "metadata": {},
     "output_type": "execute_result"
    }
   ],
   "source": [
    "19**4"
   ]
  },
  {
   "cell_type": "code",
   "execution_count": 9,
   "metadata": {},
   "outputs": [
    {
     "name": "stdout",
     "output_type": "stream",
     "text": [
      "[-2.7773554618819225, -3.563705005054187, -2.2330000919778783, -2.4506302861658162]\n"
     ]
    }
   ],
   "source": [
    "print(q_table[((1,3),(-2,-4))])"
   ]
  },
  {
   "cell_type": "code",
   "execution_count": null,
   "metadata": {},
   "outputs": [],
   "source": []
  },
  {
   "cell_type": "code",
   "execution_count": null,
   "metadata": {},
   "outputs": [],
   "source": []
  },
  {
   "cell_type": "code",
   "execution_count": null,
   "metadata": {},
   "outputs": [],
   "source": []
  },
  {
   "cell_type": "code",
   "execution_count": 26,
   "metadata": {},
   "outputs": [
    {
     "name": "stdout",
     "output_type": "stream",
     "text": [
      "7,4\n",
      "8,5\n"
     ]
    }
   ],
   "source": [
    "player = Cube()\n",
    "print(player)\n",
    "player.action(0)\n",
    "print(player)"
   ]
  },
  {
   "cell_type": "code",
   "execution_count": 3,
   "metadata": {},
   "outputs": [
    {
     "data": {
      "text/plain": [
       "(0, 255, 0)"
      ]
     },
     "execution_count": 3,
     "metadata": {},
     "output_type": "execute_result"
    }
   ],
   "source": [
    "d[FOOD_N]"
   ]
  },
  {
   "cell_type": "code",
   "execution_count": null,
   "metadata": {},
   "outputs": [],
   "source": []
  },
  {
   "cell_type": "code",
   "execution_count": null,
   "metadata": {},
   "outputs": [],
   "source": []
  },
  {
   "cell_type": "code",
   "execution_count": null,
   "metadata": {},
   "outputs": [],
   "source": []
  },
  {
   "cell_type": "code",
   "execution_count": null,
   "metadata": {},
   "outputs": [],
   "source": []
  },
  {
   "cell_type": "code",
   "execution_count": null,
   "metadata": {},
   "outputs": [],
   "source": []
  }
 ],
 "metadata": {
  "kernelspec": {
   "display_name": "Python 3",
   "language": "python",
   "name": "python3"
  },
  "language_info": {
   "codemirror_mode": {
    "name": "ipython",
    "version": 3
   },
   "file_extension": ".py",
   "mimetype": "text/x-python",
   "name": "python",
   "nbconvert_exporter": "python",
   "pygments_lexer": "ipython3",
   "version": "3.8.5"
  }
 },
 "nbformat": 4,
 "nbformat_minor": 4
}
